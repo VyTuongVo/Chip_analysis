{
 "cells": [
  {
   "cell_type": "code",
   "execution_count": 1,
   "id": "4d054502",
   "metadata": {},
   "outputs": [
    {
     "data": {
      "text/html": [
       "<div>\n",
       "<style scoped>\n",
       "    .dataframe tbody tr th:only-of-type {\n",
       "        vertical-align: middle;\n",
       "    }\n",
       "\n",
       "    .dataframe tbody tr th {\n",
       "        vertical-align: top;\n",
       "    }\n",
       "\n",
       "    .dataframe thead th {\n",
       "        text-align: right;\n",
       "    }\n",
       "</style>\n",
       "<table border=\"1\" class=\"dataframe\">\n",
       "  <thead>\n",
       "    <tr style=\"text-align: right;\">\n",
       "      <th></th>\n",
       "      <th>&lt;!DOCTYPE html&gt;</th>\n",
       "    </tr>\n",
       "  </thead>\n",
       "  <tbody>\n",
       "    <tr>\n",
       "      <th>0</th>\n",
       "      <td>&lt;html lang=\"en\"&gt;</td>\n",
       "    </tr>\n",
       "    <tr>\n",
       "      <th>1</th>\n",
       "      <td>&lt;head&gt;</td>\n",
       "    </tr>\n",
       "    <tr>\n",
       "      <th>2</th>\n",
       "      <td>&lt;title&gt;Music &amp;amp; Mental Health Survey Resu...</td>\n",
       "    </tr>\n",
       "    <tr>\n",
       "      <th>3</th>\n",
       "      <td>&lt;meta charset=\"utf-8\" /&gt;</td>\n",
       "    </tr>\n",
       "    <tr>\n",
       "      <th>4</th>\n",
       "      <td>&lt;meta name=\"robots\" content=\"index, follow...</td>\n",
       "    </tr>\n",
       "  </tbody>\n",
       "</table>\n",
       "</div>"
      ],
      "text/plain": [
       "                                     <!DOCTYPE html>\n",
       "0                                   <html lang=\"en\">\n",
       "1                                             <head>\n",
       "2    <title>Music &amp; Mental Health Survey Resu...\n",
       "3                           <meta charset=\"utf-8\" />\n",
       "4      <meta name=\"robots\" content=\"index, follow..."
      ]
     },
     "execution_count": 1,
     "metadata": {},
     "output_type": "execute_result"
    }
   ],
   "source": [
    "import pandas\n",
    "#import seaborn\n",
    "import matplotlib.pyplot as plt\n",
    "import statistics\n",
    "\n",
    "\n",
    "url = 'https://www.kaggle.com/datasets/catherinerasgaitis/mxmh-survey-results/?select=mxmh_survey_results.csv'\n",
    "\n",
    "chipotle_data = pandas.read_csv(url, sep = '\\t')\n",
    "\n",
    "chipotle_data.head()\n",
    "\n"
   ]
  },
  {
   "cell_type": "code",
   "execution_count": 2,
   "id": "e1bfff4e",
   "metadata": {
    "scrolled": true
   },
   "outputs": [
    {
     "data": {
      "text/html": [
       "<div>\n",
       "<style scoped>\n",
       "    .dataframe tbody tr th:only-of-type {\n",
       "        vertical-align: middle;\n",
       "    }\n",
       "\n",
       "    .dataframe tbody tr th {\n",
       "        vertical-align: top;\n",
       "    }\n",
       "\n",
       "    .dataframe thead th {\n",
       "        text-align: right;\n",
       "    }\n",
       "</style>\n",
       "<table border=\"1\" class=\"dataframe\">\n",
       "  <thead>\n",
       "    <tr style=\"text-align: right;\">\n",
       "      <th></th>\n",
       "      <th>order_id</th>\n",
       "      <th>quantity</th>\n",
       "    </tr>\n",
       "  </thead>\n",
       "  <tbody>\n",
       "    <tr>\n",
       "      <th>count</th>\n",
       "      <td>4622.000000</td>\n",
       "      <td>4622.000000</td>\n",
       "    </tr>\n",
       "    <tr>\n",
       "      <th>mean</th>\n",
       "      <td>927.254868</td>\n",
       "      <td>1.075725</td>\n",
       "    </tr>\n",
       "    <tr>\n",
       "      <th>std</th>\n",
       "      <td>528.890796</td>\n",
       "      <td>0.410186</td>\n",
       "    </tr>\n",
       "    <tr>\n",
       "      <th>min</th>\n",
       "      <td>1.000000</td>\n",
       "      <td>1.000000</td>\n",
       "    </tr>\n",
       "    <tr>\n",
       "      <th>25%</th>\n",
       "      <td>477.250000</td>\n",
       "      <td>1.000000</td>\n",
       "    </tr>\n",
       "    <tr>\n",
       "      <th>50%</th>\n",
       "      <td>926.000000</td>\n",
       "      <td>1.000000</td>\n",
       "    </tr>\n",
       "    <tr>\n",
       "      <th>75%</th>\n",
       "      <td>1393.000000</td>\n",
       "      <td>1.000000</td>\n",
       "    </tr>\n",
       "    <tr>\n",
       "      <th>max</th>\n",
       "      <td>1834.000000</td>\n",
       "      <td>15.000000</td>\n",
       "    </tr>\n",
       "  </tbody>\n",
       "</table>\n",
       "</div>"
      ],
      "text/plain": [
       "          order_id     quantity\n",
       "count  4622.000000  4622.000000\n",
       "mean    927.254868     1.075725\n",
       "std     528.890796     0.410186\n",
       "min       1.000000     1.000000\n",
       "25%     477.250000     1.000000\n",
       "50%     926.000000     1.000000\n",
       "75%    1393.000000     1.000000\n",
       "max    1834.000000    15.000000"
      ]
     },
     "execution_count": 2,
     "metadata": {},
     "output_type": "execute_result"
    }
   ],
   "source": [
    "chipotle_data.describe()"
   ]
  },
  {
   "cell_type": "code",
   "execution_count": 3,
   "id": "36a9c79c",
   "metadata": {
    "scrolled": true
   },
   "outputs": [
    {
     "data": {
      "text/plain": [
       "Index(['order_id', 'quantity', 'item_name', 'choice_description',\n",
       "       'item_price'],\n",
       "      dtype='object')"
      ]
     },
     "execution_count": 3,
     "metadata": {},
     "output_type": "execute_result"
    }
   ],
   "source": [
    "chipotle_data.columns\n"
   ]
  },
  {
   "cell_type": "code",
   "execution_count": 5,
   "id": "86d7fa44",
   "metadata": {
    "scrolled": false
   },
   "outputs": [
    {
     "data": {
      "text/plain": [
       "order_id               int64\n",
       "quantity               int64\n",
       "item_name             object\n",
       "choice_description    object\n",
       "item_price            object\n",
       "dtype: object"
      ]
     },
     "execution_count": 5,
     "metadata": {},
     "output_type": "execute_result"
    }
   ],
   "source": [
    "chipotle_data.dtypes"
   ]
  },
  {
   "cell_type": "code",
   "execution_count": 54,
   "id": "71787793",
   "metadata": {},
   "outputs": [
    {
     "data": {
      "text/plain": [
       "item_name\n",
       "6 Pack Soft Drink                         55\n",
       "Barbacoa Bowl                             66\n",
       "Barbacoa Burrito                          91\n",
       "Barbacoa Crispy Tacos                     12\n",
       "Barbacoa Salad Bowl                       10\n",
       "Barbacoa Soft Tacos                       25\n",
       "Bottled Water                            211\n",
       "Bowl                                       4\n",
       "Burrito                                    6\n",
       "Canned Soda                              126\n",
       "Canned Soft Drink                        351\n",
       "Carnitas Bowl                             71\n",
       "Carnitas Burrito                          60\n",
       "Carnitas Crispy Tacos                      8\n",
       "Carnitas Salad                             1\n",
       "Carnitas Salad Bowl                        6\n",
       "Carnitas Soft Tacos                       40\n",
       "Chicken Bowl                             761\n",
       "Chicken Burrito                          591\n",
       "Chicken Crispy Tacos                      50\n",
       "Chicken Salad                              9\n",
       "Chicken Salad Bowl                       123\n",
       "Chicken Soft Tacos                       120\n",
       "Chips                                    230\n",
       "Chips and Fresh Tomato Salsa             130\n",
       "Chips and Guacamole                      506\n",
       "Chips and Mild Fresh Tomato Salsa          1\n",
       "Chips and Roasted Chili Corn Salsa        23\n",
       "Chips and Roasted Chili-Corn Salsa        18\n",
       "Chips and Tomatillo Green Chili Salsa     45\n",
       "Chips and Tomatillo Red Chili Salsa       50\n",
       "Chips and Tomatillo-Green Chili Salsa     33\n",
       "Chips and Tomatillo-Red Chili Salsa       25\n",
       "Crispy Tacos                               2\n",
       "Izze                                      20\n",
       "Nantucket Nectar                          29\n",
       "Salad                                      2\n",
       "Side of Chips                            110\n",
       "Steak Bowl                               221\n",
       "Steak Burrito                            386\n",
       "Steak Crispy Tacos                        36\n",
       "Steak Salad                                4\n",
       "Steak Salad Bowl                          31\n",
       "Steak Soft Tacos                          56\n",
       "Veggie Bowl                               87\n",
       "Veggie Burrito                            97\n",
       "Veggie Crispy Tacos                        1\n",
       "Veggie Salad                               6\n",
       "Veggie Salad Bowl                         18\n",
       "Veggie Soft Tacos                          8\n",
       "Name: quantity, dtype: int64"
      ]
     },
     "execution_count": 54,
     "metadata": {},
     "output_type": "execute_result"
    }
   ],
   "source": [
    "group = chipotle_data.groupby('item_name')['quantity'].sum()\n",
    "#group = chipotle_data.groupby('item_name').sum()\n",
    "group"
   ]
  },
  {
   "cell_type": "code",
   "execution_count": 7,
   "id": "b7a36484",
   "metadata": {},
   "outputs": [
    {
     "data": {
      "text/plain": [
       "761"
      ]
     },
     "execution_count": 7,
     "metadata": {},
     "output_type": "execute_result"
    }
   ],
   "source": [
    "max(group)\n",
    "# Chicken Bowl "
   ]
  },
  {
   "cell_type": "code",
   "execution_count": 8,
   "id": "f2adf4b5",
   "metadata": {},
   "outputs": [
    {
     "data": {
      "text/plain": [
       "4972"
      ]
     },
     "execution_count": 8,
     "metadata": {},
     "output_type": "execute_result"
    }
   ],
   "source": [
    "sum(chipotle_data.quantity)"
   ]
  },
  {
   "cell_type": "code",
   "execution_count": 10,
   "id": "ad031a9e",
   "metadata": {},
   "outputs": [
    {
     "name": "stdout",
     "output_type": "stream",
     "text": [
      "item_name\n",
      "6 Pack Soft Drink                        $6.49 $6.49 $6.49 $6.49 $6.49 $6.49 $6.49 $6.4...\n",
      "Barbacoa Bowl                            $11.75 $11.75 $9.25 $8.99 $9.25 $11.75 $9.25 $...\n",
      "Barbacoa Burrito                         $8.99 $9.25 $9.25 $11.75 $11.75 $9.25 $8.99 $1...\n",
      "Barbacoa Crispy Tacos                    $11.75 $9.25 $11.48 $11.75 $9.25 $9.25 $8.99 $...\n",
      "Barbacoa Salad Bowl                      $11.89 $11.89 $9.39 $9.39 $9.39 $11.89 $11.89 ...\n",
      "Barbacoa Soft Tacos                      $9.25 $9.25 $8.99 $9.25 $9.25 $11.75 $11.75 $9...\n",
      "Bottled Water                            $1.09 $1.09 $1.09 $1.50 $1.50 $1.50 $3.00 $1.5...\n",
      "Bowl                                                                         $22.20 $7.40 \n",
      "Burrito                                               $7.40 $7.40 $7.40 $7.40 $7.40 $7.40 \n",
      "Canned Soda                              $2.18 $1.09 $2.18 $1.09 $1.09 $1.09 $1.09 $2.1...\n",
      "Canned Soft Drink                        $1.25 $1.25 $1.25 $1.25 $1.25 $1.25 $1.25 $1.2...\n",
      "Carnitas Bowl                            $8.99 $11.75 $9.25 $11.48 $8.99 $8.99 $23.50 $...\n",
      "Carnitas Burrito                         $8.99 $9.25 $11.75 $9.25 $9.25 $9.25 $11.75 $9...\n",
      "Carnitas Crispy Tacos                        $9.25 $11.75 $8.99 $11.75 $8.99 $17.98 $9.25 \n",
      "Carnitas Salad                                                                      $8.99 \n",
      "Carnitas Salad Bowl                               $11.89 $9.39 $11.89 $9.39 $11.89 $11.89 \n",
      "Carnitas Soft Tacos                      $9.25 $9.25 $9.25 $9.25 $9.25 $8.99 $8.99 $8.9...\n",
      "Chicken Bowl                             $16.98 $10.98 $11.25 $8.75 $8.49 $11.25 $8.75 ...\n",
      "Chicken Burrito                          $8.49 $8.49 $10.98 $8.49 $10.98 $10.98 $8.75 $...\n",
      "Chicken Crispy Tacos                     $8.75 $17.50 $11.25 $8.49 $8.49 $11.25 $8.75 $...\n",
      "Chicken Salad                            $10.98 $10.98 $8.49 $8.49 $8.49 $8.49 $8.49 $8...\n",
      "Chicken Salad Bowl                       $8.75 $22.50 $22.50 $8.75 $17.50 $8.75 $8.75 $...\n",
      "Chicken Soft Tacos                       $8.75 $8.75 $8.75 $8.75 $11.25 $8.49 $8.49 $8....\n",
      "Chips                                    $2.15 $2.15 $2.15 $2.15 $2.15 $2.15 $4.30 $2.1...\n",
      "Chips and Fresh Tomato Salsa             $2.39 $2.39 $2.39 $2.95 $2.95 $2.95 $2.95 $2.3...\n",
      "Chips and Guacamole                      $4.45 $4.45 $4.45 $4.45 $4.45 $3.99 $4.45 $3.9...\n",
      "Chips and Mild Fresh Tomato Salsa                                                   $3.00 \n",
      "Chips and Roasted Chili Corn Salsa       $2.95 $2.95 $2.95 $2.95 $2.95 $2.95 $2.95 $2.9...\n",
      "Chips and Roasted Chili-Corn Salsa       $2.39 $2.39 $2.39 $2.39 $2.39 $2.39 $2.39 $2.3...\n",
      "Chips and Tomatillo Green Chili Salsa    $2.95 $2.95 $5.90 $2.95 $2.95 $2.95 $2.95 $2.9...\n",
      "Chips and Tomatillo Red Chili Salsa      $2.95 $2.95 $2.95 $2.95 $2.95 $2.95 $2.95 $2.9...\n",
      "Chips and Tomatillo-Green Chili Salsa    $2.39 $2.39 $2.39 $2.39 $2.39 $2.39 $2.39 $2.3...\n",
      "Chips and Tomatillo-Red Chili Salsa      $2.39 $2.39 $2.39 $2.39 $2.39 $2.39 $2.39 $2.3...\n",
      "Crispy Tacos                                                                  $7.40 $7.40 \n",
      "Izze                                     $3.39 $3.39 $3.39 $3.39 $3.39 $3.39 $3.39 $3.3...\n",
      "Nantucket Nectar                         $3.39 $3.39 $3.39 $3.39 $3.39 $3.39 $6.78 $3.3...\n",
      "Salad                                                                         $7.40 $7.40 \n",
      "Side of Chips                            $1.69 $1.69 $1.69 $1.69 $1.69 $1.69 $1.69 $1.6...\n",
      "Steak Bowl                               $8.99 $8.99 $11.75 $11.75 $8.99 $11.48 $9.25 $...\n",
      "Steak Burrito                            $11.75 $9.25 $8.99 $11.75 $8.99 $8.99 $8.99 $8...\n",
      "Steak Crispy Tacos                       $9.25 $8.99 $9.25 $8.69 $8.99 $9.25 $8.99 $9.2...\n",
      "Steak Salad                                                       $8.99 $8.99 $8.99 $8.69 \n",
      "Steak Salad Bowl                         $23.78 $11.89 $9.39 $23.78 $11.89 $11.89 $11.8...\n",
      "Steak Soft Tacos                         $9.25 $9.25 $8.99 $9.25 $8.99 $8.99 $9.25 $9.2...\n",
      "Veggie Bowl                              $11.25 $8.49 $11.25 $11.25 $8.49 $11.25 $11.25...\n",
      "Veggie Burrito                           $11.25 $8.49 $11.25 $11.25 $10.98 $8.49 $8.49 ...\n",
      "Veggie Crispy Tacos                                                                 $8.49 \n",
      "Veggie Salad                                          $8.49 $8.49 $8.49 $8.49 $8.49 $8.49 \n",
      "Veggie Salad Bowl                        $11.25 $11.25 $11.25 $11.25 $8.75 $8.75 $11.25...\n",
      "Veggie Soft Tacos                            $11.25 $8.75 $8.49 $11.25 $8.75 $8.49 $16.98 \n",
      "Name: item_price, dtype: object\n",
      "item_name\n",
      "6 Pack Soft Drink                         55\n",
      "Barbacoa Bowl                             66\n",
      "Barbacoa Burrito                          91\n",
      "Barbacoa Crispy Tacos                     12\n",
      "Barbacoa Salad Bowl                       10\n",
      "Barbacoa Soft Tacos                       25\n",
      "Bottled Water                            211\n",
      "Bowl                                       4\n",
      "Burrito                                    6\n",
      "Canned Soda                              126\n",
      "Canned Soft Drink                        351\n",
      "Carnitas Bowl                             71\n",
      "Carnitas Burrito                          60\n",
      "Carnitas Crispy Tacos                      8\n",
      "Carnitas Salad                             1\n",
      "Carnitas Salad Bowl                        6\n",
      "Carnitas Soft Tacos                       40\n",
      "Chicken Bowl                             761\n",
      "Chicken Burrito                          591\n",
      "Chicken Crispy Tacos                      50\n",
      "Chicken Salad                              9\n",
      "Chicken Salad Bowl                       123\n",
      "Chicken Soft Tacos                       120\n",
      "Chips                                    230\n",
      "Chips and Fresh Tomato Salsa             130\n",
      "Chips and Guacamole                      506\n",
      "Chips and Mild Fresh Tomato Salsa          1\n",
      "Chips and Roasted Chili Corn Salsa        23\n",
      "Chips and Roasted Chili-Corn Salsa        18\n",
      "Chips and Tomatillo Green Chili Salsa     45\n",
      "Chips and Tomatillo Red Chili Salsa       50\n",
      "Chips and Tomatillo-Green Chili Salsa     33\n",
      "Chips and Tomatillo-Red Chili Salsa       25\n",
      "Crispy Tacos                               2\n",
      "Izze                                      20\n",
      "Nantucket Nectar                          29\n",
      "Salad                                      2\n",
      "Side of Chips                            110\n",
      "Steak Bowl                               221\n",
      "Steak Burrito                            386\n",
      "Steak Crispy Tacos                        36\n",
      "Steak Salad                                4\n",
      "Steak Salad Bowl                          31\n",
      "Steak Soft Tacos                          56\n",
      "Veggie Bowl                               87\n",
      "Veggie Burrito                            97\n",
      "Veggie Crispy Tacos                        1\n",
      "Veggie Salad                               6\n",
      "Veggie Salad Bowl                         18\n",
      "Veggie Soft Tacos                          8\n",
      "Name: quantity, dtype: int64\n"
     ]
    }
   ],
   "source": [
    "#quantities = chipotle_data.iloc[:,1]\n",
    "#prices = chipotle_data.iloc[]\n",
    "\n",
    "\n",
    "#price = chipotle_data.groupby('item_name')['item_price'].sum()\n",
    "#group = chipotle_data.groupby('item_name')['quantity'].sum()\n",
    "\n",
    "#print(price)\n",
    "#print(group)"
   ]
  },
  {
   "cell_type": "code",
   "execution_count": 39,
   "id": "33a8a342",
   "metadata": {
    "scrolled": true
   },
   "outputs": [
    {
     "ename": "TypeError",
     "evalue": "cannot convert the series to <class 'float'>",
     "output_type": "error",
     "traceback": [
      "\u001b[0;31m---------------------------------------------------------------------------\u001b[0m",
      "\u001b[0;31mTypeError\u001b[0m                                 Traceback (most recent call last)",
      "\u001b[0;32m<ipython-input-39-03f014ecaa00>\u001b[0m in \u001b[0;36m<module>\u001b[0;34m\u001b[0m\n\u001b[1;32m      2\u001b[0m \u001b[0mi\u001b[0m \u001b[0;34m=\u001b[0m \u001b[0;36m0\u001b[0m\u001b[0;34m\u001b[0m\u001b[0;34m\u001b[0m\u001b[0m\n\u001b[1;32m      3\u001b[0m \u001b[0;34m\u001b[0m\u001b[0m\n\u001b[0;32m----> 4\u001b[0;31m \u001b[0mnumeric_price\u001b[0m \u001b[0;34m=\u001b[0m \u001b[0mfloat\u001b[0m\u001b[0;34m(\u001b[0m\u001b[0mprice\u001b[0m\u001b[0;34m.\u001b[0m\u001b[0mreplace\u001b[0m\u001b[0;34m(\u001b[0m\u001b[0;34m'$'\u001b[0m\u001b[0;34m,\u001b[0m \u001b[0;34m''\u001b[0m\u001b[0;34m)\u001b[0m\u001b[0;34m.\u001b[0m\u001b[0mreplace\u001b[0m\u001b[0;34m(\u001b[0m\u001b[0;34m','\u001b[0m\u001b[0;34m,\u001b[0m \u001b[0;34m''\u001b[0m\u001b[0;34m)\u001b[0m\u001b[0;34m)\u001b[0m\u001b[0;34m\u001b[0m\u001b[0;34m\u001b[0m\u001b[0m\n\u001b[0m\u001b[1;32m      5\u001b[0m \u001b[0;34m\u001b[0m\u001b[0m\n\u001b[1;32m      6\u001b[0m \u001b[0;31m#for i in range(len(chipotle_data)):\u001b[0m\u001b[0;34m\u001b[0m\u001b[0;34m\u001b[0m\u001b[0;34m\u001b[0m\u001b[0m\n",
      "\u001b[0;32m~/opt/anaconda3/lib/python3.8/site-packages/pandas/core/series.py\u001b[0m in \u001b[0;36mwrapper\u001b[0;34m(self)\u001b[0m\n\u001b[1;32m    139\u001b[0m         \u001b[0;32mif\u001b[0m \u001b[0mlen\u001b[0m\u001b[0;34m(\u001b[0m\u001b[0mself\u001b[0m\u001b[0;34m)\u001b[0m \u001b[0;34m==\u001b[0m \u001b[0;36m1\u001b[0m\u001b[0;34m:\u001b[0m\u001b[0;34m\u001b[0m\u001b[0;34m\u001b[0m\u001b[0m\n\u001b[1;32m    140\u001b[0m             \u001b[0;32mreturn\u001b[0m \u001b[0mconverter\u001b[0m\u001b[0;34m(\u001b[0m\u001b[0mself\u001b[0m\u001b[0;34m.\u001b[0m\u001b[0miloc\u001b[0m\u001b[0;34m[\u001b[0m\u001b[0;36m0\u001b[0m\u001b[0;34m]\u001b[0m\u001b[0;34m)\u001b[0m\u001b[0;34m\u001b[0m\u001b[0;34m\u001b[0m\u001b[0m\n\u001b[0;32m--> 141\u001b[0;31m         \u001b[0;32mraise\u001b[0m \u001b[0mTypeError\u001b[0m\u001b[0;34m(\u001b[0m\u001b[0;34mf\"cannot convert the series to {converter}\"\u001b[0m\u001b[0;34m)\u001b[0m\u001b[0;34m\u001b[0m\u001b[0;34m\u001b[0m\u001b[0m\n\u001b[0m\u001b[1;32m    142\u001b[0m \u001b[0;34m\u001b[0m\u001b[0m\n\u001b[1;32m    143\u001b[0m     \u001b[0mwrapper\u001b[0m\u001b[0;34m.\u001b[0m\u001b[0m__name__\u001b[0m \u001b[0;34m=\u001b[0m \u001b[0;34mf\"__{converter.__name__}__\"\u001b[0m\u001b[0;34m\u001b[0m\u001b[0;34m\u001b[0m\u001b[0m\n",
      "\u001b[0;31mTypeError\u001b[0m: cannot convert the series to <class 'float'>"
     ]
    }
   ],
   "source": [
    "count = 0 \n",
    "i = 0 \n",
    "\n",
    "numeric_price = float(price.replace('$', '').replace(',', ''))\n",
    "\n",
    "#for i in range(len(chipotle_data)):\n",
    "#    numeric_price = float(price.replace('$', '').replace(',', ''))\n",
    "#    if numeric_price[i] < 10:\n",
    "#        count = count + 1\n",
    "\n",
    "#print(count)"
   ]
  },
  {
   "cell_type": "code",
   "execution_count": 53,
   "id": "7e5234e7",
   "metadata": {
    "scrolled": true
   },
   "outputs": [
    {
     "name": "stdout",
     "output_type": "stream",
     "text": [
      "['6 Pack Soft Drink', 'Barbacoa Bowl', 'Barbacoa Burrito', 'Barbacoa Crispy Tacos', 'Barbacoa Salad Bowl', 'Barbacoa Soft Tacos', 'Bottled Water', 'Bowl', 'Burrito', 'Canned Soda', 'Canned Soft Drink', 'Carnitas Bowl', 'Carnitas Burrito', 'Carnitas Crispy Tacos', 'Carnitas Salad', 'Carnitas Salad Bowl', 'Carnitas Soft Tacos', 'Chicken Bowl', 'Chicken Burrito', 'Chicken Crispy Tacos', 'Chicken Salad', 'Chicken Salad Bowl', 'Chicken Soft Tacos', 'Chips', 'Chips and Fresh Tomato Salsa', 'Chips and Guacamole', 'Chips and Mild Fresh Tomato Salsa', 'Chips and Roasted Chili Corn Salsa', 'Chips and Roasted Chili-Corn Salsa', 'Chips and Tomatillo Green Chili Salsa', 'Chips and Tomatillo Red Chili Salsa', 'Chips and Tomatillo-Green Chili Salsa', 'Chips and Tomatillo-Red Chili Salsa', 'Crispy Tacos', 'Izze', 'Nantucket Nectar', 'Salad', 'Side of Chips', 'Steak Bowl', 'Steak Burrito', 'Steak Crispy Tacos', 'Steak Salad', 'Steak Salad Bowl', 'Steak Soft Tacos', 'Veggie Bowl', 'Veggie Burrito', 'Veggie Crispy Tacos', 'Veggie Salad', 'Veggie Salad Bowl', 'Veggie Soft Tacos']\n"
     ]
    },
    {
     "data": {
      "text/plain": [
       "50"
      ]
     },
     "execution_count": 53,
     "metadata": {},
     "output_type": "execute_result"
    }
   ],
   "source": [
    "#group = chipotle_data.groupby('item_name').unique()\n",
    "#print(group)\n",
    "\n",
    "item = chipotle_data.groupby('item_name')\n",
    "unique_items = item.groups.keys()\n",
    "print(list(unique_items))\n",
    "\n",
    "len(unique_items)\n"
   ]
  },
  {
   "cell_type": "code",
   "execution_count": 77,
   "id": "6b49d28d",
   "metadata": {
    "scrolled": true
   },
   "outputs": [
    {
     "name": "stdout",
     "output_type": "stream",
     "text": [
      "761\n",
      "591\n",
      "386\n",
      "351\n",
      "506\n"
     ]
    },
    {
     "data": {
      "image/png": "[encoded data removed]",
      "text/plain": [
       "<Figure size 432x288 with 1 Axes>"
      ]
     },
     "metadata": {
      "needs_background": "light"
     },
     "output_type": "display_data"
    }
   ],
   "source": [
    "#\"Chicken Bowl\"\n",
    "#Chicken Burrito \n",
    "#Steak Burrito \n",
    "#Canned Soft Drink \n",
    "#Chips and Guacamole\n",
    "\n",
    "\n",
    "quantity_of_chicken_bowl = group.loc['Chicken Bowl']\n",
    "print(quantity_of_chicken_bowl)\n",
    "\n",
    "\n",
    "quantity_of_chicken_burrito = group.loc['Chicken Burrito']\n",
    "print(quantity_of_chicken_burrito)\n",
    "\n",
    "quantity_of_steak_burrito = group.loc['Steak Burrito']\n",
    "print(quantity_of_steak_burrito)\n",
    "\n",
    "quantity_of_Canned_Soft_Drink = group.loc['Canned Soft Drink']\n",
    "print(quantity_of_Canned_Soft_Drink)\n",
    "\n",
    "\n",
    "quantity_of_Chips_Guacamole = group.loc['Chips and Guacamole']\n",
    "print(quantity_of_Chips_Guacamole)\n",
    "\n",
    "top_5 = [\n",
    "    quantity_of_chicken_bowl,\n",
    "    quantity_of_chicken_burrito,\n",
    "    quantity_of_steak_burrito,\n",
    "    quantity_of_Canned_Soft_Drink,\n",
    "    quantity_of_Chips_Guacamole\n",
    "]\n",
    "\n",
    "values = [\"Chicken Bowl\",'Chicken Burrito', 'Steak Burrito', 'Canned Soft Drink', 'Chips and Guacamole']\n",
    "\n",
    "plt.bar(values,top_5)\n",
    "plt.show()\n",
    "\n",
    "#print(top_5)\n",
    "\n",
    "#top_5 = list(quantity_of_chicken_bowl, quantity_of_chicken_burrito, quantity_of_steak_burrito,quantity_of_Canned_Soft_Drink, quantity_of_Chips_Guacamole) "
   ]
  },
  {
   "cell_type": "code",
   "execution_count": 86,
   "id": "96b7f362",
   "metadata": {
    "scrolled": true
   },
   "outputs": [
    {
     "name": "stdout",
     "output_type": "stream",
     "text": [
      "230\n",
      "221\n",
      "211\n",
      "130\n",
      "126\n",
      "[761, 591, 386, 351, 506, 230, 221, 211, 130, 126]\n"
     ]
    },
    {
     "data": {
      "image/png": "[encoded data removed]",
      "text/plain": [
       "<Figure size 432x288 with 1 Axes>"
      ]
     },
     "metadata": {},
     "output_type": "display_data"
    }
   ],
   "source": [
    "#Chips\n",
    "#Steak Bowl \n",
    "#Bottled Water\n",
    "#Chips and Fresh Tomato Salsa\n",
    "#Canned Soda\n",
    "\n",
    "\n",
    "\n",
    "quantity_of_Chip = group.loc['Chips']\n",
    "print(quantity_of_Chip)\n",
    "\n",
    "\n",
    "quantity_of_Steak_Bowl = group.loc['Steak Bowl']\n",
    "print(quantity_of_Steak_Bowl)\n",
    "\n",
    "quantity_of_Bottled_Water = group.loc['Bottled Water']\n",
    "print(quantity_of_Bottled_Water)\n",
    "\n",
    "quantity_of_Chips_Fresh_Tomato_Salsa = group.loc['Chips and Fresh Tomato Salsa']\n",
    "print(quantity_of_Chips_Fresh_Tomato_Salsa)\n",
    "\n",
    "\n",
    "quantity_of_Canned_Soda = group.loc['Canned Soda']\n",
    "print(quantity_of_Canned_Soda)\n",
    "\n",
    "\n",
    "top_10 = [\n",
    "    quantity_of_chicken_bowl,\n",
    "    quantity_of_chicken_burrito,\n",
    "    quantity_of_steak_burrito,\n",
    "    quantity_of_Canned_Soft_Drink,\n",
    "    quantity_of_Chips_Guacamole,\n",
    "    quantity_of_Chip,\n",
    "    quantity_of_Steak_Bowl,\n",
    "    quantity_of_Bottled_Water,\n",
    "    quantity_of_Chips_Fresh_Tomato_Salsa,\n",
    "    quantity_of_Canned_Soda\n",
    "    \n",
    "]\n",
    "print(top_10)\n",
    "\n",
    "values = [\"Chicken Bowl\",'Chicken Burrito', 'Steak Burrito', 'Canned Soft Drink', 'Chips and Guacamole', 'Chips', 'Steak Bowl', 'Bottled Water', 'Chips and Fresh Tomato Salsa', 'Canned Soda']\n",
    "\n",
    "plt.pie(top_10, labels = values)\n",
    "plt.show() "
   ]
  },
  {
   "cell_type": "code",
   "execution_count": 98,
   "id": "5c46894f",
   "metadata": {},
   "outputs": [
    {
     "data": {
      "image/png": "[encoded data removed]",
      "text/plain": [
       "<Figure size 432x288 with 1 Axes>"
      ]
     },
     "metadata": {
      "needs_background": "light"
     },
     "output_type": "display_data"
    }
   ],
   "source": [
    "# Question 11: Using your top 10 items, create a scatterplot of items ordered. X will be Top 5 ideas while Y will be Top 5 to 10. Find the possible relationship between X and Y\n",
    "\n",
    "top_5_10 = [\n",
    "    quantity_of_Chip,\n",
    "    quantity_of_Steak_Bowl,\n",
    "    quantity_of_Bottled_Water,\n",
    "    quantity_of_Chips_Fresh_Tomato_Salsa,\n",
    "    quantity_of_Canned_Soda \n",
    "]\n",
    "\n",
    "\n",
    "\n",
    "plt.scatter(top_5, top_5_10)\n",
    "plt.xlabel(\"Top 5\")\n",
    "plt.ylabel(\"Top 5 to 10\")\n",
    "plt.title(\"Relstionship between Top 5 and Top 5 to 10\")\n",
    "plt.show()\n"
   ]
  }
 ],
 "metadata": {
  "kernelspec": {
   "display_name": "Python 3",
   "language": "python",
   "name": "python3"
  },
  "language_info": {
   "codemirror_mode": {
    "name": "ipython",
    "version": 3
   },
   "file_extension": ".py",
   "mimetype": "text/x-python",
   "name": "python",
   "nbconvert_exporter": "python",
   "pygments_lexer": "ipython3",
   "version": "3.8.8"
  }
 },
 "nbformat": 4,
 "nbformat_minor": 5
}
