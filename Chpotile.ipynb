import pandas
#import seaborn
import matplotlib.pyplot as plt

url = 'https://raw.githubusercontent.com/justmarkham/DAT8/master/data/chipotle.tsv'

chipotle_data = pandas.read_csv(url, sep = '\t')

chipotle_data.head()	
chipotle_data.describe()
chipotle_data.columns
chipotle_data.values
chipotle_data.dtypes
chipotle_data.max
group = chipotle_data.groupby('item_name')['quantity'].sum()
group
max(group)
quantities = chipotle_data.iloc[:, 1]
prices = chipotle_data.iloc[:, -1]
total = quantities * prices
total_rev = total.sum()
print(total_rev)
quantities = chipotle_data.iloc[:, 1] 
prices = chipotle_data.iloc[:, -1] 

total = quantities * prices

total_revenue = total.sum()

print(total_revenue)
sum(chipotle_data.quantity)
group = chipotle_data.groupby('item_name')['quantity'].sum()
group
#group = chipotle_data.groupby('item_name')
item = chipotle_data.groupby('item_name')
unique_items = item.groups.keys()
print(list(unique_items))

len(unique_items)
quantity_of_chicken_bowl = group.loc['Chicken Bowl']
print(quantity_of_chicken_bowl)


quantity_of_chicken_burrito = group.loc['Chicken Burrito']
print(quantity_of_chicken_burrito)

quantity_of_steak_burrito = group.loc['Steak Burrito']
print(quantity_of_steak_burrito)

quantity_of_Canned_Soft_Drink = group.loc['Canned Soft Drink']
print(quantity_of_Canned_Soft_Drink)


quantity_of_Chips_Guacamole = group.loc['Chips and Guacamole']
print(quantity_of_Chips_Guacamole)

top_5 = [
    quantity_of_chicken_bowl,
    quantity_of_chicken_burrito,
    quantity_of_steak_burrito,
    quantity_of_Canned_Soft_Drink,
    quantity_of_Chips_Guacamole
]

values = ["Chicken Bowl",'Chicken Burrito', 'Steak Burrito', 'Canned Soft Drink', 'Chips and Guacamole']

plt.bar(values,top_5)
plt.show()quantity_of_Chip = group.loc['Chips']
print(quantity_of_Chip)


quantity_of_Steak_Bowl = group.loc['Steak Bowl']
print(quantity_of_Steak_Bowl)

quantity_of_Bottled_Water = group.loc['Bottled Water']
print(quantity_of_Bottled_Water)

quantity_of_Chips_Fresh_Tomato_Salsa = group.loc['Chips and Fresh Tomato Salsa']
print(quantity_of_Chips_Fresh_Tomato_Salsa)


quantity_of_Canned_Soda = group.loc['Canned Soda']
print(quantity_of_Canned_Soda)


top_10 = [
    quantity_of_chicken_bowl,
    quantity_of_chicken_burrito,
    quantity_of_steak_burrito,
    quantity_of_Canned_Soft_Drink,
    quantity_of_Chips_Guacamole,
    quantity_of_Chip,
    quantity_of_Steak_Bowl,
    quantity_of_Bottled_Water,
    quantity_of_Chips_Fresh_Tomato_Salsa,
    quantity_of_Canned_Soda

]
print(top_10)

values = ["Chicken Bowl",'Chicken Burrito', 'Steak Burrito', 'Canned Soft Drink', 'Chips and Guacamole', 'Chips', 'Steak Bowl', 'Bottled Water', 'Chips and Fresh Tomato Salsa', 'Canned Soda']

plt.pie(top_10, labels = values)
plt.show()#q11. unsing top 10 item make scatterplot
top_5_10 = [ quantity_of_Chip,
    quantity_of_Steak_Bowl,
    quantity_of_Bottled_Water,
    quantity_of_Chips_Fresh_Tomato_Salsa,
    quantity_of_Canned_Soda

]

plt.scatter(top_5, top_5_10)
plt.show()
    
